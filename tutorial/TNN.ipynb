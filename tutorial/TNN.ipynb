{
 "cells": [
  {
   "cell_type": "code",
   "execution_count": 8,
   "metadata": {},
   "outputs": [],
   "source": [
    "import numpy as np\n",
    "\n",
    "def admm(A, B, X, sparse_mat, para):\n",
    "    pos_train = np.where(sparse_mat != 0)\n",
    "    admm_iter = para[\"admm_iter\"]\n",
    "    admm_tol = para[\"admm_tol\"]\n",
    "    rho = para[\"rho\"]\n",
    "    \n",
    "    X = sparse_mat.copy()\n",
    "    Z = sparse_mat.copy()\n",
    "    T = np.zeros(sparse_mat.shape)\n",
    "    AB = np.matmul(A.T, B)\n",
    "    obj = np.zeros(admm_iter)\n",
    "    \n",
    "    for k in range(admm_iter):\n",
    "        X_old = X.copy()\n",
    "        u, s, v = np.linalg.svd(Z - T / rho, full_matrices = False)\n",
    "        vec = s - 1 / rho\n",
    "        vec[vec < 0] = 0\n",
    "        X = np.matmul(np.matmul(u, np.diag(vec)), v)\n",
    "        \n",
    "#         delta = np.linalg.norm(X - X_old, 'fro')\n",
    "#         if delta < admm_tol:\n",
    "#             break\n",
    "        Z = X + (AB + T) / rho\n",
    "        Z[pos_train] = sparse_mat[pos_train]\n",
    "        T = T + rho * (X - Z)\n",
    "        obj[k] = (np.sum(vec) - np.matrix.trace(np.matmul(np.matmul(A, Z), B.T))\n",
    "                 + rho / 2 * np.linalg.norm(X - Z, 'fro') ** 2 \n",
    "                  + np.matrix.trace(np.matmul(T.T, X - Z)))\n",
    "        if k > 0 and abs(obj[k] - obj[k - 1]) < admm_tol:\n",
    "            break\n",
    "    return X\n",
    "\n",
    "def LRMC(sparse_mat, dense_mat, rho, theta, maxiter, para):\n",
    "    \n",
    "    pos_train = np.where(sparse_mat != 0)\n",
    "    pos_test = np.where((sparse_mat == 0) & (dense_mat != 0))\n",
    "    binary_mat = sparse_mat.copy()\n",
    "    binary_mat[pos_train] = 1\n",
    "    \n",
    "    X = sparse_mat.copy()\n",
    "    rse = np.zeros(maxiter)\n",
    "    \n",
    "    for it in range(maxiter):\n",
    "        u, s, v = np.linalg.svd(X, full_matrices = False)\n",
    "        A = u[:, : theta].T\n",
    "        B = v[: theta, :]\n",
    "        X = admm(A, B, X, sparse_mat, para)\n",
    "        rse[it] = (np.linalg.norm(X[pos_test] - dense_mat[pos_test], 2) \n",
    "                   / np.linalg.norm(dense_mat[pos_test], 2))\n",
    "    return X, rse"
   ]
  },
  {
   "cell_type": "code",
   "execution_count": 4,
   "metadata": {},
   "outputs": [],
   "source": [
    "import imageio\n",
    "\n",
    "name0 = [\"lena\"]\n",
    "name = [\"lena_mar\"]\n",
    "image = imageio.imread('../datasets/color-images/{}.bmp'.format(name0[0]))\n",
    "sparse_image = imageio.imread('../datasets/color-images/{}.bmp'.format(name[0]))\n",
    "sparse_mat = sparse_image[:, :, 1]\n",
    "dense_mat = image[:, :, 1]"
   ]
  },
  {
   "cell_type": "code",
   "execution_count": 15,
   "metadata": {},
   "outputs": [
    {
     "name": "stdout",
     "output_type": "stream",
     "text": [
      "Running time: 23 seconds.\n",
      "\n"
     ]
    }
   ],
   "source": [
    "import time\n",
    "import matplotlib.pyplot as plt\n",
    "\n",
    "start = time.time()\n",
    "rho = 0.005\n",
    "maxiter = 50\n",
    "theta = 10\n",
    "para = {\"admm_iter\": 100, \"admm_tol\": 1, \"rho\": rho}\n",
    "mat_hat, rse = LRMC(sparse_mat, dense_mat, rho, theta, maxiter, para)\n",
    "end = time.time()\n",
    "\n",
    "# plt.imshow(mat_hat)\n",
    "# plt.title('The recovered image')\n",
    "# plt.axis('off')\n",
    "# plt.show()\n",
    "\n",
    "print('Running time: %d seconds.'%(end - start))\n",
    "print()\n",
    "# print('Relative Squared Error (RSE) is {:.6}.'.format(rse_svt[-1]))"
   ]
  },
  {
   "cell_type": "code",
   "execution_count": 17,
   "metadata": {},
   "outputs": [
    {
     "data": {
      "text/plain": [
       "array([0.15552816, 0.14426615, 0.1443437 , 0.14438807, 0.14439725,\n",
       "       0.14439911, 0.14439954, 0.14439967, 0.14439972, 0.14439973,\n",
       "       0.14439973, 0.14439973, 0.14439972, 0.14439972, 0.14439971,\n",
       "       0.14439971, 0.14439971, 0.14439971, 0.14439971, 0.14439971,\n",
       "       0.14439971, 0.14439971, 0.14439971, 0.14439971, 0.14439971,\n",
       "       0.14439971, 0.14439971, 0.14439971, 0.14439971, 0.14439971,\n",
       "       0.14439971, 0.14439971, 0.14439971, 0.14439971, 0.14439971,\n",
       "       0.14439971, 0.14439971, 0.14439971, 0.14439971, 0.14439971,\n",
       "       0.14439971, 0.14439971, 0.14439971, 0.14439971, 0.14439971,\n",
       "       0.14439971, 0.14439971, 0.14439971, 0.14439971, 0.14439971])"
      ]
     },
     "execution_count": 17,
     "metadata": {},
     "output_type": "execute_result"
    }
   ],
   "source": [
    "rse"
   ]
  },
  {
   "cell_type": "code",
   "execution_count": 18,
   "metadata": {},
   "outputs": [
    {
     "data": {
      "text/plain": [
       "Text(0.5, 1.0, 'Matrix completion using SVT.')"
      ]
     },
     "execution_count": 18,
     "metadata": {},
     "output_type": "execute_result"
    },
    {
     "data": {
      "image/png": "[encoded data removed]",
      "text/plain": [
       "<Figure size 360x216 with 1 Axes>"
      ]
     },
     "metadata": {
      "needs_background": "light"
     },
     "output_type": "display_data"
    }
   ],
   "source": [
    "fig = plt.figure(figsize=(5, 3))\n",
    "ax = plt.subplot(111)\n",
    "plt.plot(rse)\n",
    "ax.set_ylim([0, 0.5])\n",
    "plt.xlabel(\"Iteration\")\n",
    "plt.ylabel(\"RSE\")\n",
    "plt.title(\"Matrix completion using SVT.\")"
   ]
  },
  {
   "cell_type": "code",
   "execution_count": null,
   "metadata": {},
   "outputs": [],
   "source": []
  }
 ],
 "metadata": {
  "kernelspec": {
   "display_name": "Python 3",
   "language": "python",
   "name": "python3"
  },
  "language_info": {
   "codemirror_mode": {
    "name": "ipython",
    "version": 3
   },
   "file_extension": ".py",
   "mimetype": "text/x-python",
   "name": "python",
   "nbconvert_exporter": "python",
   "pygments_lexer": "ipython3",
   "version": "3.7.3"
  }
 },
 "nbformat": 4,
 "nbformat_minor": 2
}
