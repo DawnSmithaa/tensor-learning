{
 "cells": [
  {
   "cell_type": "markdown",
   "metadata": {},
   "source": [
    "<h1 align = \"center\">Randomized Singular Value Decomposition</h1>\n",
    "\n",
    "<h6 align = \"center\">Author: Xinyu Chen</h6>\n",
    "\n",
    "The accurate and efficient decomposition of large data matrices is one of the cornerstones of modern computational mathematics and data science.\n",
    "\n",
    "For reproducing this notebook, please clone or download the **tensor-learning** repository ([https://github.com/xinychen/tensor-learning](https://github.com/xinychen/tensor-learning)) on your computer first."
   ]
  },
  {
   "cell_type": "markdown",
   "metadata": {},
   "source": [
    "If we want to find the SVD of $\\boldsymbol{X}\\in\\mathbb{R}^{m\\times n}$ as\n",
    "\\begin{equation}\n",
    "\\boldsymbol{X}=\\boldsymbol{U}\\boldsymbol{\\Sigma}\\boldsymbol{V}^{\\top}\n",
    "\\end{equation}\n",
    "where $m\\ll n$, we can first compute the following SVD:\n",
    "\\begin{equation}\n",
    "\\boldsymbol{X}\\boldsymbol{X}^\\top=\\boldsymbol{U}\\tilde{\\boldsymbol{\\Sigma}}\\tilde{\\boldsymbol{V}}^{T}\n",
    "\\end{equation}\n"
   ]
  },
  {
   "cell_type": "code",
   "execution_count": 1,
   "metadata": {},
   "outputs": [],
   "source": [
    "import numpy as np\n",
    "np.seterr(divide='ignore', invalid='ignore')\n",
    "\n",
    "def fast_svd(mat):\n",
    "    dim1, dim2 = mat.shape\n",
    "    if dim1 <= dim2:\n",
    "        U, s_tilde, V_tilde = np.linalg.svd(mat @ mat.T, full_matrices = 0)\n",
    "        S = np.sqrt(np.diag(s_tilde) @ V_tilde @ U)\n",
    "        V = mat.T @ U @ np.linalg.inv(S)\n",
    "        return U, S, V\n",
    "    else:\n",
    "        U0, S, V0 = fast_svd(mat.T)\n",
    "        U = V0.T\n",
    "        V = U0.T\n",
    "        return U, S, V\n",
    "\n",
    "def rsvd(mat, rank, q):\n",
    "    dim1, dim2 = mat.shape\n",
    "    if dim1 > dim2:\n",
    "        Phi = np.random.randn(dim2, rank)\n",
    "        A = mat @ Phi\n",
    "        for k in range(q):\n",
    "            A = mat @ (mat.T @ A)\n",
    "        Q, R = np.linalg.qr(A)\n",
    "        U_tilde, S, V = fast_svd(Q.T @ A)\n",
    "        return Q @ U_tilde, S, V"
   ]
  },
  {
   "cell_type": "code",
   "execution_count": 2,
   "metadata": {},
   "outputs": [
    {
     "name": "stdout",
     "output_type": "stream",
     "text": [
      "[[-0.57733574  0.73637114 -0.35276194]\n",
      " [-0.57749445 -0.67368348 -0.46114069]\n",
      " [-0.57722059 -0.06251493  0.8141918 ]]\n",
      "[2886.34380676  913.29543057  912.88546298]\n",
      "0.3979451656341553\n"
     ]
    }
   ],
   "source": [
    "import time\n",
    "\n",
    "mat = np.random.rand(3, 10000000)\n",
    "start = time.time()\n",
    "U, S, V = fast_svd(mat)\n",
    "end = time.time()\n",
    "print(U)\n",
    "print(np.diag(S))\n",
    "print(end - start)"
   ]
  },
  {
   "cell_type": "code",
   "execution_count": 3,
   "metadata": {},
   "outputs": [
    {
     "name": "stdout",
     "output_type": "stream",
     "text": [
      "[[-0.57733574  0.73637114 -0.35276194]\n",
      " [-0.57749445 -0.67368348 -0.46114069]\n",
      " [-0.57722059 -0.06251493  0.8141918 ]]\n",
      "[2886.34380676  913.29543057  912.88546298]\n",
      "0.4226951599121094\n"
     ]
    }
   ],
   "source": [
    "start = time.time()\n",
    "U, S, V = fast_svd(mat.T)\n",
    "print(V.T)\n",
    "print(np.diag(S))\n",
    "end = time.time()\n",
    "print(end - start)"
   ]
  },
  {
   "cell_type": "code",
   "execution_count": 4,
   "metadata": {},
   "outputs": [
    {
     "name": "stdout",
     "output_type": "stream",
     "text": [
      "[[-0.57733574  0.73637114 -0.35276194]\n",
      " [-0.57749445 -0.67368348 -0.46114069]\n",
      " [-0.57722059 -0.06251493  0.8141918 ]]\n",
      "[2886.34380676  913.29543057  912.88546298]\n",
      "0.9292600154876709\n"
     ]
    }
   ],
   "source": [
    "start = time.time()\n",
    "U, S, V = np.linalg.svd(mat, full_matrices = 0)\n",
    "end = time.time()\n",
    "print(U)\n",
    "print(S)\n",
    "print(end - start)"
   ]
  },
  {
   "cell_type": "code",
   "execution_count": null,
   "metadata": {},
   "outputs": [],
   "source": []
  }
 ],
 "metadata": {
  "kernelspec": {
   "display_name": "Python 3",
   "language": "python",
   "name": "python3"
  },
  "language_info": {
   "codemirror_mode": {
    "name": "ipython",
    "version": 3
   },
   "file_extension": ".py",
   "mimetype": "text/x-python",
   "name": "python",
   "nbconvert_exporter": "python",
   "pygments_lexer": "ipython3",
   "version": "3.7.3"
  }
 },
 "nbformat": 4,
 "nbformat_minor": 2
}
