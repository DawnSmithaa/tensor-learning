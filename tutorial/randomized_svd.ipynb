{
 "cells": [
  {
   "cell_type": "markdown",
   "metadata": {},
   "source": [
    "<h1 align = \"center\">Randomized Singular Value Decomposition</h1>\n",
    "\n",
    "<h6 align = \"center\">Author: Xinyu Chen</h6>\n",
    "\n",
    "The accurate and efficient decomposition of large data matrices is one of the cornerstones of modern computational mathematics and data science.\n",
    "\n",
    "For reproducing this notebook, please clone or download the **tensor-learning** repository ([https://github.com/xinychen/tensor-learning](https://github.com/xinychen/tensor-learning)) on your computer first."
   ]
  },
  {
   "cell_type": "markdown",
   "metadata": {},
   "source": [
    "**Lemma 1.** Suppose any matrix $\\boldsymbol{X}\\in\\mathbb{R}^{m\\times n}$ with $m\\ll n$, then a fast approach for computing Singular Value Decomposition of $\\boldsymbol{X}=\\boldsymbol{U}\\boldsymbol{\\Sigma}\\boldsymbol{V}^\\top$ is given by\n",
    "\\begin{equation}\n",
    "\\begin{aligned}\n",
    "    \\boldsymbol{X}\\boldsymbol{X}^\\top=\\boldsymbol{U}\\tilde{\\boldsymbol{\\Sigma}}\\tilde{\\boldsymbol{V}}^\\top,\\quad\\boldsymbol{\\Sigma}\\boldsymbol{\\Sigma}^\\top=\\tilde{\\boldsymbol{\\Sigma}}\\tilde{\\boldsymbol{V}}^\\top\\boldsymbol{U},\\quad\\boldsymbol{V}=\\boldsymbol{X}^\\top\\boldsymbol{U}\\boldsymbol{\\Sigma}^{-1},\n",
    "\\end{aligned}\n",
    "\\end{equation}\n",
    "where $\\boldsymbol{U}$ and $\\boldsymbol{V}$ consist of left and right singular vectors, respectively. $\\sigma_1\\geq\\sigma_{\\min{m,n}}\\geq 0$ are singular values.\n",
    "\n",
    "\n",
    "*Proof.* For the fact that $\\boldsymbol{X}=\\boldsymbol{U}\\boldsymbol{\\Sigma}\\boldsymbol{V}^\\top$ is the SVD of $\\boldsymbol{X}$, there holds\n",
    "\\begin{equation}\n",
    "    \\boldsymbol{X}\\boldsymbol{X}^\\top=\\boldsymbol{U}\\boldsymbol{\\Sigma}\\boldsymbol{V}^\\top\\boldsymbol{V}\\boldsymbol{\\Sigma}^\\top\\boldsymbol{U}^\\top=\\boldsymbol{U}\\boldsymbol{\\Sigma}\\boldsymbol{\\Sigma}^\\top\\boldsymbol{U}^\\top=\\boldsymbol{U}\\tilde{\\boldsymbol{\\Sigma}}\\tilde{\\boldsymbol{V}}^\\top\\Rightarrow\\boldsymbol{\\Sigma}\\boldsymbol{\\Sigma}^\\top=\\tilde{\\boldsymbol{\\Sigma}}\\tilde{\\boldsymbol{V}}^\\top\\boldsymbol{U}.\n",
    "\\end{equation}\n",
    "\n",
    "Following this, we have\n",
    "\\begin{equation}\n",
    "    \\boldsymbol{X}^\\top\\boldsymbol{X}=\\boldsymbol{X}^\\top\\boldsymbol{U}\\boldsymbol{\\Sigma}\\boldsymbol{V}^\\top=\\boldsymbol{V}\\boldsymbol{\\Sigma}\\boldsymbol{\\Sigma}^\\top\\boldsymbol{V}^\\top\\Rightarrow\\boldsymbol{V}=\\boldsymbol{X}^\\top\\boldsymbol{U}\\boldsymbol{\\Sigma}^{-1}.\n",
    "\\end{equation}\n",
    "\n"
   ]
  },
  {
   "cell_type": "code",
   "execution_count": 1,
   "metadata": {},
   "outputs": [],
   "source": [
    "import numpy as np\n",
    "np.seterr(divide='ignore', invalid='ignore')\n",
    "\n",
    "def fast_svd(mat):\n",
    "    dim1, dim2 = mat.shape\n",
    "    if dim1 <= dim2:\n",
    "        U, s_tilde, V_tilde = np.linalg.svd(mat @ mat.T, full_matrices = 0)\n",
    "        S = np.sqrt(np.diag(s_tilde) @ V_tilde @ U)\n",
    "        V = mat.T @ U @ np.linalg.inv(S)\n",
    "        return U, S, V\n",
    "    else:\n",
    "        U0, S, V0 = fast_svd(mat.T)\n",
    "        U = V0.T\n",
    "        V = U0.T\n",
    "        return U, S, V\n",
    "\n",
    "def rsvd(mat, rank, q):\n",
    "    dim1, dim2 = mat.shape\n",
    "    if dim1 > dim2:\n",
    "        Phi = np.random.randn(dim2, rank)\n",
    "        A = mat @ Phi\n",
    "        for k in range(q):\n",
    "            A = mat @ (mat.T @ A)\n",
    "        Q, R = np.linalg.qr(A)\n",
    "        U_tilde, S, V = fast_svd(Q.T @ A)\n",
    "        return Q @ U_tilde, S, V"
   ]
  },
  {
   "cell_type": "code",
   "execution_count": 2,
   "metadata": {},
   "outputs": [
    {
     "name": "stdout",
     "output_type": "stream",
     "text": [
      "[6708.2749416    67.51813228   67.46474809 ...    9.96231502    9.92972879\n",
      "    9.86411576]\n",
      "617.9077150821686\n"
     ]
    }
   ],
   "source": [
    "import time\n",
    "\n",
    "mat = np.random.rand(10000, 18000)\n",
    "start = time.time()\n",
    "U, S, V = fast_svd(mat)\n",
    "end = time.time()\n",
    "# print(U)\n",
    "print(np.diag(S))\n",
    "print(end - start)"
   ]
  },
  {
   "cell_type": "code",
   "execution_count": 3,
   "metadata": {},
   "outputs": [
    {
     "name": "stdout",
     "output_type": "stream",
     "text": [
      "[6708.2749416    67.51813228   67.46474809 ...    9.96231502    9.92972879\n",
      "    9.86411576]\n",
      "736.6943187713623\n"
     ]
    }
   ],
   "source": [
    "start = time.time()\n",
    "U, S, V = np.linalg.svd(mat, full_matrices = 0)\n",
    "end = time.time()\n",
    "# print(U)\n",
    "print(S)\n",
    "print(end - start)"
   ]
  },
  {
   "cell_type": "code",
   "execution_count": null,
   "metadata": {},
   "outputs": [],
   "source": []
  }
 ],
 "metadata": {
  "kernelspec": {
   "display_name": "Python 3",
   "language": "python",
   "name": "python3"
  },
  "language_info": {
   "codemirror_mode": {
    "name": "ipython",
    "version": 3
   },
   "file_extension": ".py",
   "mimetype": "text/x-python",
   "name": "python",
   "nbconvert_exporter": "python",
   "pygments_lexer": "ipython3",
   "version": "3.7.3"
  }
 },
 "nbformat": 4,
 "nbformat_minor": 2
}
