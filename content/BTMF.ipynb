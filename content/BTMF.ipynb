{
 "cells": [
  {
   "cell_type": "markdown",
   "metadata": {},
   "source": [
    "# Bayesian Temporal Matrix Factorization\n",
    "\n",
    "**Published**: October 8, 2019\n",
    "\n",
    "**Author**: Xinyu Chen [[**GitHub homepage**](https://github.com/xinychen)]\n",
    "\n",
    "**Download**: This Jupyter notebook is at our GitHub repository. If you want to evaluate the code, please download the notebook from the repository of [**tensor-learning**](https://github.com/xinychen/tensor-learning/blob/master/content/BTMF.ipynb)."
   ]
  },
  {
   "cell_type": "markdown",
   "metadata": {},
   "source": [
    "## Abstract\n",
    "\n",
    "Large-scale and multidimensional spatiotemporal data sets are becoming ubiquitous in many real-world applications such as monitoring traffic and air quality. Making predictions on these time series has become a critical challenge due to not only the large-scale and high-dimensional nature but also the considerable amount of missing data. In this work, we propose a Bayesian Temporal Matrix Factorization (BTMF) model for modeling multidimensional time series - and in particular spatiotemporal data - in the presence of missing data. By integrating low-rank matrix factorization and autoregressive (AR) process into a single probabilistic graphical model, our model can effectively perform predictions without imputing those missing values. We develop efficient Gibbs sampling algorithms for model inference and test the proposed BTMF on several real-world spatiotemporal data sets for both missing data imputation and short-term rolling prediction tasks. This post is mainly about BTMF models and their **`Python`** implementation with an application of spatiotemporal data imputation."
   ]
  },
  {
   "cell_type": "markdown",
   "metadata": {},
   "source": [
    "## 1 Motivation\n",
    "\n"
   ]
  },
  {
   "cell_type": "markdown",
   "metadata": {},
   "source": [
    "## 2 Problem Description\n",
    "\n",
    "We assume a spatiotemporal setting for multidimensional time series data throughout this work. In general, modern spatiotemporal data sets collected from sensor networks can be organized as matrix time series. For example, we can denote by matrix $Y\\in\\mathbb{R}^{N\\times T}$ a multivariate time series collected from $N$ locations/sensors on $T$ time stamps, with each row $$\\boldsymbol{y}_{i}=\\left(y_{i,1},y_{i,2},...,y_{i,t-1},y_{i,t},y_{i,t+1},...,y_{i,T}\\right)$$\n",
    "corresponding to the time series collected at location $i$.\n",
    "\n",
    "As mentioned, making accurate predictions on incomplete time series is very challenging, while missing data problem is almost inevitable in real-world applications. Figure 1 illustrates the prediction problem for incomplete time series data. Here we use $(i,t)\\in\\Omega$ to index the observed entries in matrix $Y$.\n",
    "\n",
    "<img src=\"../images/graphical_matrix_time_series.png\" alt=\"drawing\" width=\"600\"/>\n",
    "\n",
    "> **Figure 1**: Illustration of multivariate time series and the prediction problem in the presence of missing values (green: observed data; white: missing data; red: prediction).\n"
   ]
  },
  {
   "cell_type": "markdown",
   "metadata": {},
   "source": [
    "## 3 Model Description\n",
    "\n",
    "Given a partially observed spatiotemporal matrix $Y\\in\\mathbb{R}^{N \\times T}$, one can factorize it into a spatial factor matrix $W\\in\\mathbb{R}^{R \\times N}$ and a temporal factor matrix $X\\in\\mathbb{R}^{R \\times T}$ following general matrix factorization model:\n",
    "$$Y\\approx W^{\\top}X,~~~~(1)$$\n",
    "and element-wise, we have\n",
    "$$y_{it}\\approx \\boldsymbol{w}_{i}^\\top\\boldsymbol{x}_{t}, \\quad \\forall (i,t),~~~~(2)$$\n",
    "where vectors $\\boldsymbol{w}_{i}$ and $\\boldsymbol{x}_{t}$ refer to the $i$-th column of $W$ and the $t$-th column of $X$, respectively.\n",
    "\n",
    "The standard matrix factorization model is a good approach to deal with the missing data problem; however, it cannot capture the dependencies among different columns in $X$, which are critical in modeling time series data. To better characterize the temporal dependencies and impose temporal smoothness, a novel AR regularizer is introduced on $X$ in TRMF (i.e., Temporal Regularizer Matrix Factorization proposed by [Yu et al., 2016](https://www.cs.utexas.edu/~rofuyu/papers/tr-mf-nips.pdf)):\n",
    "$$\\begin{array}{l}\\boldsymbol{x}_{t+1}&=\\sum\\nolimits_{k=1}^{d}A_{k}\\boldsymbol{x}_{t+1-h_k}+\\boldsymbol{\\epsilon}_t, \\\\\n",
    "    &=A^\\top \\boldsymbol{v}_{t+1}+\\boldsymbol{\\epsilon}_{t}, \\\\ \\end{array}~~~~(3)$$\n",
    "where $\\mathcal{L}=\\left\\{h_1,\\ldots,h_k,\\ldots,h_d\\right\\}$ is a lag set ($d$ is the order of this AR model), each $A_k$ ($k\\in\\left\\{1,...,d\\right\\}$) is a $R\\times R$ coefficient matrix, and $\\boldsymbol{\\epsilon}_t$ is a zero mean Gaussian noise vector. For brevity, matrix $A\\in \\mathbb{R}^{(R d) \\times R}$ and vector $\\boldsymbol{v}_{t+1}\\in \\mathbb{R}^{(R d) \\times 1}$ are defined as\n",
    "$$A=\\left[A_{1}, \\ldots, A_{d}\\right]^{\\top} ,\\quad \\boldsymbol{v}_{t+1}=\\left[\\begin{array}{c}{\\boldsymbol{x}_{t+1-h_1}} \\\\ {\\vdots} \\\\ {\\boldsymbol{x}_{t+1-h_d}}\\end{array}\\right].$$\n",
    "\n",
    "<img src=\"../images/rolling_prediction.png\" alt=\"drawing\" width=\"400\"/>\n",
    "\n",
    "> **Figure 2**: A graphical illustration of the rolling prediction scheme using BTMF (with VAR process) (green: observed data; white: missing data; red: prediction).\n",
    "\n",
    "In [Yu et al., 2016](https://www.cs.utexas.edu/~rofuyu/papers/tr-mf-nips.pdf), to avoid overfitting and reduce the number of parameters, the coefficient matrix in TRMF is further assumed to be a diagonal $A_k=\\text{diag}(\\boldsymbol{\\theta}_{k})$. Therefore, they have\n",
    "$$\\boldsymbol{x}_{t+1}=\\boldsymbol{\\theta}_{1}\\circledast\\boldsymbol{x}_{t+1-h_1}+\\cdots+\\boldsymbol{\\theta}_{d}\\circledast\\boldsymbol{x}_{t+1-h_d}+\\boldsymbol{\\epsilon}_t,~~~~(4)$$\n",
    "where the symbol $\\circledast$ denotes the element-wise Hadamard product. However, unlike Equation (4), a vector autoregressive (VAR) model in Equation (3) is actually more powerful for capturing multivariate time series patterns. \n",
    "\n",
    "<img src=\"../images/rolling_prediction_strategy.png\" alt=\"drawing\" width=\"400\"/>\n",
    "\n",
    "> **Figure 3**: A graphical illustration of the rolling prediction scheme using BTMF (with AR process) (green: observed data; white: missing data; red: prediction).\n",
    "\n",
    "In the following, we first introduce a Bayesian temporal matrix factorization model with an autoregressive model given in Equation (4), and then discuss another model with a vector autoregressive (VAR) model shown in Equation (3).\n",
    "\n"
   ]
  },
  {
   "cell_type": "markdown",
   "metadata": {},
   "source": [
    "## 4 Bayesian Temporal Matrix Factorization with Autoregressive Model"
   ]
  },
  {
   "cell_type": "markdown",
   "metadata": {},
   "source": []
  },
  {
   "cell_type": "markdown",
   "metadata": {},
   "source": [
    "## 5 Bayesian Temporal Matrix Factorization with Vector Autoregressive Model"
   ]
  },
  {
   "cell_type": "markdown",
   "metadata": {},
   "source": [
    "### 5.1 Model Specification\n",
    "\n",
    "Following the general Bayesian probabilistic matrix factorization models (e.g., BPMF proposed by [Salakhutdinov & Mnih, 2008](https://www.cs.toronto.edu/~amnih/papers/bpmf.pdf)), we assume that each observed entry in $Y$ follows a Gaussian distribution with precision $\\tau$:\n",
    "$$y_{i,t}\\sim\\mathcal{N}\\left(\\boldsymbol{w}_i^\\top\\boldsymbol{x}_t,\\tau^{-1}\\right),\\quad \\left(i,t\\right)\\in\\Omega.$$\n",
    "\n",
    "On the spatial dimension, we use a simple Gaussian factor matrix without imposing any dependencies explicitly:\n",
    "$$\\boldsymbol{w}_i\\sim\\mathcal{N}\\left(\\boldsymbol{\\mu}_{w},\\Lambda_w^{-1}\\right),$$\n",
    "and we place a conjugate Gaussian-Wishart prior on the mean vector and the precision matrix:\n",
    "$$\\boldsymbol{\\mu}_w | \\Lambda_w \\sim\\mathcal{N}\\left(\\boldsymbol{\\mu}_0,(\\beta_0\\Lambda_w)^{-1}\\right),\\Lambda_w\\sim\\mathcal{W}\\left(W_0,\\nu_0\\right),$$\n",
    "where $\\boldsymbol{\\mu}_0\\in \\mathbb{R}^{R}$ is a mean vector, $\\mathcal{W}\\left(W_0,\\nu_0\\right)$ is a Wishart distribution with a $R\\times R$ scale matrix $W_0$ and $\\nu_0$ degrees of freedom.\n",
    "\n",
    "In modeling the temporal factor matrix $X$, we re-write the VAR process as:\n",
    "$$\\boldsymbol{x}_{t}\\sim\\left\\{\\begin{array}{ll}\n",
    "\\mathcal{N}\\left(\\boldsymbol{0},I_R\\right),&\\text{if $t\\in\\{1,2,...,h_d\\}$}, \\\\\n",
    "\\mathcal{N}\\left(A^\\top \\boldsymbol{v}_{t},\\Sigma\\right),&\\text{otherwise},\\\\\n",
    "\\end{array}\\right.$$\n",
    "\n",
    "Since the mean vector is defined by VAR, we need to place the conjugate matrix normal inverse Wishart (MNIW) prior on the coefficient matrix $A$ and the covariance matrix $\\Sigma$ as follows,\n",
    "$$A\\sim\\mathcal{MN}_{(Rd)\\times R}\\left(M_0,\\Psi_0,\\Sigma\\right),\\quad\n",
    "\\Sigma \\sim\\mathcal{IW}\\left(S_0,\\nu_0\\right), \\\\$$\n",
    "where the probability density function for the $Rd$-by-$R$ random matrix $A$ has the form:\n",
    "$$\\begin{array}{l}\n",
    "&p\\left(A\\mid M_0,\\Psi_0,\\Sigma\\right) \\\\\n",
    "=&\\left(2\\pi\\right)^{-R^2d/2}\\left|\\Psi_0\\right|^{-Rd/2}\\left|\\Sigma\\right|^{-R/2} \\\\\n",
    "&\\times \\exp\\left(-\\frac{1}{2}\\text{tr}\\left[\\Psi_{0}^{-1}\\left(A-M_0\\right)^{\\top}\\Sigma^{-1}\\left(A-M_0\\right)\\right]\\right), \\\\\n",
    "\\end{array}$$\n",
    "where $\\Psi_0\\in\\mathbb{R}^{(Rd)\\times (Rd)}$ and $\\Sigma\\in\\mathbb{R}^{R\\times R}$ are played as covariance matrices.\n",
    "\n",
    "For the only remaining parameter $\\tau$, we place a Gamma prior  $\\tau\\sim\\text{Gamma}\\left(\\alpha,\\beta\\right)$ where $\\alpha$ and $\\beta$ are the shape and rate parameters, respectively. \n",
    "\n",
    "The above specifies the full generative process of BTMF, and we could also see the Bayesian graphical model shown in Figure 4. Several parameters are introduced to define the prior distributions for hyperparameters, including $\\boldsymbol{\\mu}_{0}$, $W_0$, $\\nu_0$, $\\beta_0$, $\\alpha$, $\\beta$, $M_0$, $\\Psi_0$, and $S_0$. These parameters need to provided in advance when training the model. However, it should be noted that the specification of these parameters has little impact on the final results, as the training data will play a much more important role in defining the posteriors of the hyperparameters.\n",
    "\n",
    "<img src=\"../images/btmf_net.png\" alt=\"drawing\" width=\"450\"/>\n",
    "\n",
    "> **Figure 4**: An overview graphical model of BTMF (time lag set: $\\left\\{1,2,...,d\\right\\}$). The shaded nodes ($y_{i,t}$) are the observed data in $\\Omega$.\n"
   ]
  },
  {
   "cell_type": "markdown",
   "metadata": {},
   "source": [
    "### 5.2 Model Inference\n",
    "\n"
   ]
  },
  {
   "cell_type": "markdown",
   "metadata": {},
   "source": [
    "Given the complex structure of BTMF, it is intractable to write down the posterior distribution. Here we rely on the MCMC technique for Bayesian learning. In detail, we introduce a Gibbs sampling algorithm by deriving the full conditional distributions for all parameters and hyperparameters. Thanks to the use of conjugate priors in Figure 4, we can actually write down all the conditional distributions analytically. Below we summarize the Gibbs sampling procedure.  \n"
   ]
  },
  {
   "cell_type": "markdown",
   "metadata": {},
   "source": [
    "#### 1) Sampling Factor Matrix $W$ and Its Hyperparameters\n",
    "\n"
   ]
  },
  {
   "cell_type": "markdown",
   "metadata": {},
   "source": [
    "> For programming convenience, we use $W\\in\\mathbb{R}^{N\\times R}$ to replace $W\\in\\mathbb{R}^{R\\times N}$."
   ]
  },
  {
   "cell_type": "code",
   "execution_count": null,
   "metadata": {},
   "outputs": [],
   "source": [
    "import numpy as np\n",
    "from numpy.linalg import inv as inv\n",
    "from numpy.random import multivariate_normal as mvnrnd\n",
    "from scipy.stats import wishart\n",
    "\n",
    "def kr_prod(a, b):\n",
    "    return np.einsum('ir, jr -> ijr', a, b).reshape(a.shape[0] * b.shape[0], -1)\n",
    "\n",
    "def cov_mat(mat):\n",
    "    dim1, dim2 = mat.shape\n",
    "    new_mat = np.zeros((dim2, dim2))\n",
    "    mat_bar = np.mean(mat, axis = 0)\n",
    "    for i in range(dim1):\n",
    "        new_mat += np.einsum('i, j -> ij', mat[i, :] - mat_bar, mat[i, :] - mat_bar)\n",
    "    return new_mat\n",
    "\n",
    "def sample_factor_w(sparse_mat, binary_mat, W, X, tau):\n",
    "    \"\"\"Sampling factor matrix W (N-by-R) and its hyperparameters (mu_w, Lambda_w).\"\"\"\n",
    "    \n",
    "    dim1, rank = W.shape\n",
    "    beta0 = 1\n",
    "    nu0 = rank\n",
    "    W0 = np.eye(rank)\n",
    "    \n",
    "    W_bar = np.mean(W, axis = 0)\n",
    "    var_mu_hyper = (dim1 * W_bar)/(dim1 + beta0)\n",
    "    var_W_hyper = inv(inv(W0) + cov_mat(W) + dim1 * beta0/(dim1 + beta0) * np.outer(W_bar, W_bar))\n",
    "    var_Lambda_hyper = wishart(df = dim1 + nu0, scale = var_W_hyper, seed = None).rvs()\n",
    "    var_mu_hyper = mvnrnd(var_mu_hyper, inv((dim1 + beta0) * var_Lambda_hyper))\n",
    "    \n",
    "    var1 = X.T\n",
    "    var2 = kr_prod(var1, var1)\n",
    "    var3 = (tau * np.matmul(var2, binary_mat.T).reshape([rank, rank, dim1]) \n",
    "            + np.dstack([var_Lambda_hyper] * dim1))\n",
    "    var4 = (tau * np.matmul(var1, sparse_mat.T)\n",
    "            + np.dstack([np.matmul(var_Lambda_hyper, var_mu_hyper)] * dim1)[0, :, :])\n",
    "    for i in range(dim1):\n",
    "        inv_var_Lambda = inv(var3[:, :, i])\n",
    "        W[i, :] = mvnrnd(np.matmul(inv_var_Lambda, var4[:, i]), inv_var_Lambda)\n",
    "\n",
    "    return W"
   ]
  }
 ],
 "metadata": {
  "kernelspec": {
   "display_name": "Python 3",
   "language": "python",
   "name": "python3"
  },
  "language_info": {
   "codemirror_mode": {
    "name": "ipython",
    "version": 3
   },
   "file_extension": ".py",
   "mimetype": "text/x-python",
   "name": "python",
   "nbconvert_exporter": "python",
   "pygments_lexer": "ipython3",
   "version": "3.7.3"
  }
 },
 "nbformat": 4,
 "nbformat_minor": 2
}
